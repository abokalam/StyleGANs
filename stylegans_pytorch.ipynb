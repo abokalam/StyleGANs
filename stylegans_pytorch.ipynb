{
  "nbformat": 4,
  "nbformat_minor": 0,
  "metadata": {
    "colab": {
      "name": "stylegans-pytorch.ipynb",
      "provenance": [],
      "collapsed_sections": [],
      "authorship_tag": "ABX9TyMR886WD9E/LgRJlI3DJ8Vs",
      "include_colab_link": true
    },
    "kernelspec": {
      "name": "python3",
      "display_name": "Python 3"
    },
    "accelerator": "GPU"
  },
  "cells": [
    {
      "cell_type": "markdown",
      "metadata": {
        "id": "view-in-github",
        "colab_type": "text"
      },
      "source": [
        "<a href=\"https://colab.research.google.com/github/mashyko/StyleGANs/blob/master/stylegans_pytorch.ipynb\" target=\"_parent\"><img src=\"https://colab.research.google.com/assets/colab-badge.svg\" alt=\"Open In Colab\"/></a>"
      ]
    },
    {
      "cell_type": "markdown",
      "metadata": {
        "id": "LcJYp3rQVvOh",
        "colab_type": "text"
      },
      "source": [
        "# Stylegans-pytorch\n",
        "\n",
        " adopted code from https://github.com/yuuho/stylegans-pytorch\n"
      ]
    },
    {
      "cell_type": "code",
      "metadata": {
        "id": "0ogzuPrtmu5T",
        "colab_type": "code",
        "outputId": "16c1134f-5b2f-42bc-f16e-2c6c31508f49",
        "colab": {
          "base_uri": "https://localhost:8080/",
          "height": 122
        }
      },
      "source": [
        "from google.colab import drive\n",
        "drive.mount('/content/drive')"
      ],
      "execution_count": 0,
      "outputs": [
        {
          "output_type": "stream",
          "text": [
            "Go to this URL in a browser: https://accounts.google.com/o/oauth2/auth?client_id=947318989803-6bn6qk8qdgf4n4g3pfee6491hc0brc4i.apps.googleusercontent.com&redirect_uri=urn%3aietf%3awg%3aoauth%3a2.0%3aoob&response_type=code&scope=email%20https%3a%2f%2fwww.googleapis.com%2fauth%2fdocs.test%20https%3a%2f%2fwww.googleapis.com%2fauth%2fdrive%20https%3a%2f%2fwww.googleapis.com%2fauth%2fdrive.photos.readonly%20https%3a%2f%2fwww.googleapis.com%2fauth%2fpeopleapi.readonly\n",
            "\n",
            "Enter your authorization code:\n",
            "··········\n",
            "Mounted at /content/drive\n"
          ],
          "name": "stdout"
        }
      ]
    },
    {
      "cell_type": "code",
      "metadata": {
        "id": "2t9l2T_OUxHC",
        "colab_type": "code",
        "outputId": "9442936d-0ed1-4901-f3e8-ed825a20e1f5",
        "colab": {
          "base_uri": "https://localhost:8080/",
          "height": 34
        }
      },
      "source": [
        "%cd /content/drive/My Drive"
      ],
      "execution_count": 0,
      "outputs": [
        {
          "output_type": "stream",
          "text": [
            "/content/drive/My Drive\n"
          ],
          "name": "stdout"
        }
      ]
    },
    {
      "cell_type": "code",
      "metadata": {
        "id": "5NStM66_XODd",
        "colab_type": "code",
        "outputId": "cb24e46a-ed9f-46fb-b81f-c047319681ef",
        "colab": {
          "base_uri": "https://localhost:8080/",
          "height": 34
        }
      },
      "source": [
        "#!mkdir stylegans\n",
        "#%cd stylegans\n",
        "%cd ..\n",
        "!mkdir stylegans_dir"
      ],
      "execution_count": 0,
      "outputs": [
        {
          "output_type": "stream",
          "text": [
            "/content/drive/My Drive/stylegans\n"
          ],
          "name": "stdout"
        }
      ]
    },
    {
      "cell_type": "code",
      "metadata": {
        "id": "-aL-NDP4bdFb",
        "colab_type": "code",
        "outputId": "336fdd8b-1c8f-45da-fcc5-59561529711e",
        "colab": {
          "base_uri": "https://localhost:8080/",
          "height": 34
        }
      },
      "source": [
        "%cd stylegans\n",
        "\n",
        "#!git clone https://github.com/NVlabs/stylegan.git"
      ],
      "execution_count": 0,
      "outputs": [
        {
          "output_type": "stream",
          "text": [
            "/content/drive/My Drive/stylegans\n"
          ],
          "name": "stdout"
        }
      ]
    },
    {
      "cell_type": "code",
      "metadata": {
        "id": "uCgEroXkbRAr",
        "colab_type": "code",
        "outputId": "f3b56e76-f94f-4a49-c6ce-32f3a60330be",
        "colab": {
          "base_uri": "https://localhost:8080/",
          "height": 102
        }
      },
      "source": [
        "#!git clone https://github.com/NVlabs/stylegan2.git"
      ],
      "execution_count": 0,
      "outputs": [
        {
          "output_type": "stream",
          "text": [
            "ERROR! Session/line number was not unique in database. History logging moved to new session 59\n",
            "Cloning into 'stylegan2'...\n",
            "remote: Enumerating objects: 93, done.\u001b[K\n",
            "remote: Total 93 (delta 0), reused 0 (delta 0), pack-reused 93\u001b[K\n",
            "Unpacking objects: 100% (93/93), done.\n"
          ],
          "name": "stdout"
        }
      ]
    },
    {
      "cell_type": "code",
      "metadata": {
        "id": "tDDULI6z5DhO",
        "colab_type": "code",
        "colab": {}
      },
      "source": [
        "#!git clone https://github.com/yuuho/stylegans-pytorch"
      ],
      "execution_count": 0,
      "outputs": []
    },
    {
      "cell_type": "code",
      "metadata": {
        "id": "4_7isPaMcir-",
        "colab_type": "code",
        "colab": {}
      },
      "source": [
        "#!cp stylegans-pytorch/packaged/run_tf_stylegan1.py stylegan/"
      ],
      "execution_count": 0,
      "outputs": []
    },
    {
      "cell_type": "code",
      "metadata": {
        "id": "XmRe8xYtwSzH",
        "colab_type": "code",
        "colab": {}
      },
      "source": [
        "# For the old version: \n",
        "%pip install tensorflow==1.15"
      ],
      "execution_count": 0,
      "outputs": []
    },
    {
      "cell_type": "code",
      "metadata": {
        "id": "kFloPBzHcn61",
        "colab_type": "code",
        "colab": {}
      },
      "source": [
        "%cd stylegan\n",
        "!python run_tf_stylegan1.py -w ../stylegans_dir -o ../stylegans_dir\n",
        "%cd .."
      ],
      "execution_count": 0,
      "outputs": []
    },
    {
      "cell_type": "code",
      "metadata": {
        "id": "noFp7tZKdk3R",
        "colab_type": "code",
        "outputId": "e9a85d81-e8b5-48a5-910e-8cd33fdafe7c",
        "colab": {
          "base_uri": "https://localhost:8080/",
          "height": 153
        }
      },
      "source": [
        "!python stylegans-pytorch/packaged/run_pt_stylegan1.py -w stylegans_dir -o stylegans_dir"
      ],
      "execution_count": 0,
      "outputs": [
        {
          "output_type": "stream",
          "text": [
            "model construction...\n",
            "model weights load...\n",
            "set state_dict...\n",
            "load latents...\n",
            "network forward...\n",
            "image output...\n",
            "weight save...\n",
            "all done\n"
          ],
          "name": "stdout"
        }
      ]
    },
    {
      "cell_type": "code",
      "metadata": {
        "id": "KFJUtaFfm1bT",
        "colab_type": "code",
        "colab": {}
      },
      "source": [
        "!cp stylegans-pytorch/waifu/converter.py stylegan/\n",
        "%cd stylegan"
      ],
      "execution_count": 0,
      "outputs": []
    },
    {
      "cell_type": "code",
      "metadata": {
        "id": "c7dr17GHm1qL",
        "colab_type": "code",
        "colab": {}
      },
      "source": [
        "!python converter.py 1 face_v1_1 -w ../anime -o ../anime\n",
        "!python converter.py 1 face_v1_2 -w ../anime -o ../anime\n",
        "#!python converter.py 1 portrait_v1 -w stylegansdir -o stylegansdir\n",
        "!cd .."
      ],
      "execution_count": 0,
      "outputs": []
    },
    {
      "cell_type": "markdown",
      "metadata": {
        "id": "g7NImt0KFiFW",
        "colab_type": "text"
      },
      "source": [
        "以上\n"
      ]
    },
    {
      "cell_type": "code",
      "metadata": {
        "id": "bb5nOl5rZR_U",
        "colab_type": "code",
        "colab": {}
      },
      "source": [
        "\n"
      ],
      "execution_count": 0,
      "outputs": []
    }
  ]
}